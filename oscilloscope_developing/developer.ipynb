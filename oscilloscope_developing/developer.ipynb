{
 "cells": [
  {
   "cell_type": "markdown",
   "id": "72e154d4",
   "metadata": {},
   "source": [
    "# Developer Manual"
   ]
  },
  {
   "cell_type": "markdown",
   "id": "efeec2f4",
   "metadata": {},
   "source": [
    "## File Structure\n",
    "* Python files: entry.py, mainWindow.py, measure.py, setParameter.py, waveform_plot.py\n",
    "* UI files: data_download.ui, error.ui, info.ui, main.ui, screenshot_download.ui, sucess.ui, waveform_data_download.ui, waveform_plot_download.ui"
   ]
  },
  {
   "cell_type": "markdown",
   "id": "06f3399a",
   "metadata": {},
   "source": [
    "## Interface\n",
    "* Mainly in entry.py, mainWindow.py. \n",
    "* Design logic: We should draw a draft in Qt_designer and save the file as a ui file, then load the ui file in our python script. We can implement some logics like binding event control, setting and getting values, and so on in the python script.\n"
   ]
  },
  {
   "cell_type": "markdown",
   "id": "d0e1e585",
   "metadata": {},
   "source": [
    "##### How to load the ui file \n",
    "* We need to use function \"loadUi\" to load the ui file, see the following example"
   ]
  },
  {
   "cell_type": "code",
   "execution_count": null,
   "id": "b162f39f",
   "metadata": {},
   "outputs": [],
   "source": [
    "from PyQt5 import uic\n",
    "class MyWindowClass(QMainWindow):\n",
    "    def __init__(self):\n",
    "        super().__init__()\n",
    "        uic.loadUi('main.ui', self)"
   ]
  },
  {
   "cell_type": "markdown",
   "id": "5ed5c39c",
   "metadata": {},
   "source": [
    "##### Implement some interface logic\n",
    "* Recommend to use OOP, different window has a different class\n",
    "* Binding some events to specific gadgets\n",
    "* Checking the following example. \"optionmenu_channel\" is the object name (refers to a drop down menu), we can define this in qt_designer; The callback function will be called when this gadget is activated (eg:somebody may change the value, it will tigger the callback function)"
   ]
  },
  {
   "cell_type": "code",
   "execution_count": null,
   "id": "24d97d74",
   "metadata": {},
   "outputs": [],
   "source": [
    "class MyWindowClass(QMainWindow):\n",
    "    def __init__(self):\n",
    "        super().__init__()\n",
    "        uic.loadUi('main.ui', self)\n",
    "        self.source = \"CHANnel1\"\n",
    "        \n",
    "        self.optionmenu_channel.activated.connect(self.optionmenu_channel_callback)\n",
    "        \n",
    "    def optionmenu_channel_callback(self, index):\n",
    "        if index == 0:\n",
    "            self.source = \"CHANnel1\"\n",
    "        elif index == 1:\n",
    "            self.source = \"CHANnel2\"\n",
    "        elif index == 2:\n",
    "            self.source = \"CHANnel3\"\n",
    "        else:\n",
    "            self.source = \"CHANnel4\"\n",
    "        sp.channel_control_select(index)"
   ]
  },
  {
   "cell_type": "markdown",
   "id": "0da2b0be",
   "metadata": {},
   "source": [
    "* Check PyQt Tutorial for more information! \n",
    "* Helpful resource: https://www.tutorialspoint.com/pyqt/index.htm"
   ]
  },
  {
   "cell_type": "markdown",
   "id": "577d9884",
   "metadata": {},
   "source": [
    "## Backend Library\n",
    "* Functions in these files are using SCPI command to communicate with oscilloscope. \n",
    "* Check the [program guide](https://github.com/tiancheng-st/Program_Guide_Keysight_Infiniium_Oscilloscopes/blob/main/Programmer_s%2BGuide%2Bfor%2BInfiniium%2BOscilloscop.pdf) for more information:   "
   ]
  },
  {
   "cell_type": "markdown",
   "id": "1a1fc0b3",
   "metadata": {},
   "source": [
    "##### How to get the measurement\n",
    "* The following example query the frequency from oscilloscope"
   ]
  },
  {
   "cell_type": "code",
   "execution_count": null,
   "id": "364ded24",
   "metadata": {},
   "outputs": [],
   "source": [
    "source = \"CHANnel1\"\n",
    "def do_query_number(query):\n",
    "    global scope\n",
    "    results = scope.query(\"%s\" % query)\n",
    "    return float(results)\n",
    "\n",
    "frequency = do_query_number(f\":MEASure:FREQuency? {source}\")"
   ]
  },
  {
   "cell_type": "code",
   "execution_count": null,
   "id": "f7a30d81",
   "metadata": {},
   "outputs": [],
   "source": []
  },
  {
   "cell_type": "code",
   "execution_count": null,
   "id": "511c3ae5",
   "metadata": {},
   "outputs": [],
   "source": []
  }
 ],
 "metadata": {
  "kernelspec": {
   "display_name": "Python 3 (ipykernel)",
   "language": "python",
   "name": "python3"
  },
  "language_info": {
   "codemirror_mode": {
    "name": "ipython",
    "version": 3
   },
   "file_extension": ".py",
   "mimetype": "text/x-python",
   "name": "python",
   "nbconvert_exporter": "python",
   "pygments_lexer": "ipython3",
   "version": "3.11.3"
  }
 },
 "nbformat": 4,
 "nbformat_minor": 5
}
